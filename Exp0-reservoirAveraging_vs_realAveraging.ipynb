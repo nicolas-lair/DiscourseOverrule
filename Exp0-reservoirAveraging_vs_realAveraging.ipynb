{
 "cells": [
  {
   "cell_type": "code",
   "execution_count": 6,
   "metadata": {},
   "outputs": [
    {
     "name": "stdout",
     "output_type": "stream",
     "text": [
      "(1526309, 100)\n",
      "(1526309, 100)\n",
      "[-0.02351735 -0.21580668 -0.07746142  0.30616015 -0.50626165 -0.53465641\n",
      "  0.22412315  0.10216704 -0.08972006  0.58413774  0.00719666  0.04281679\n",
      " -0.04429427 -0.24588124 -0.10614253  0.24597004  0.28822556 -0.17354693\n",
      "  0.45586234 -0.18948703  0.24950223  0.57639349  0.47091386  0.40734819\n",
      " -0.07026971 -0.65928608  0.38434535 -0.97489905  0.03441016  0.26392755\n",
      "  0.11954903  0.38285953  0.73950714  0.4763189   0.12021329 -0.28063941\n",
      "  0.09184753 -0.09080368 -0.47693256 -0.32190481  0.17100073  0.45228553\n",
      " -0.60164648  0.30710736  0.10648603 -0.41401032 -0.40083888  0.54358643\n",
      " -0.26714236 -0.07415126  0.43052375 -0.02430673 -0.63350528 -0.05007789\n",
      "  0.18112977 -0.63580644  0.31671059  0.83651656 -0.85935009  0.15473612\n",
      " -0.62863618  0.08247093 -0.47696397  0.13628498  0.95557594 -0.95485455\n",
      " -0.68352073  0.0123837  -0.01202986 -0.67577863  0.29987732  0.10498992\n",
      " -1.09432471 -0.31625351  0.00596754 -0.11741146  0.00311201 -0.34178552\n",
      "  0.03537211  0.4885374  -0.35203901 -0.14286503  0.27971876 -0.25467572\n",
      " -0.4048546   0.97396725 -0.14256807  0.61280137  0.64895821 -0.09192723\n",
      "  0.81583905 -0.03471047  0.10663845 -0.30056006 -0.17990796 -1.25427389\n",
      "  1.37819123  0.41824433 -0.37162197  0.35406351]\n",
      "[-0.02351735 -0.21580668 -0.07746142  0.30616015 -0.50626165 -0.53465641\n",
      "  0.22412315  0.10216704 -0.08972006  0.58413774  0.00719666  0.04281679\n",
      " -0.04429427 -0.24588124 -0.10614253  0.24597004  0.28822556 -0.17354693\n",
      "  0.45586234 -0.18948703  0.24950223  0.57639349  0.47091386  0.40734819\n",
      " -0.07026971 -0.65928608  0.38434535 -0.97489905  0.03441016  0.26392755\n",
      "  0.11954903  0.38285953  0.73950714  0.4763189   0.12021329 -0.28063941\n",
      "  0.09184753 -0.09080368 -0.47693256 -0.32190481  0.17100073  0.45228553\n",
      " -0.60164648  0.30710736  0.10648603 -0.41401032 -0.40083888  0.54358643\n",
      " -0.26714236 -0.07415126  0.43052375 -0.02430673 -0.63350528 -0.05007789\n",
      "  0.18112977 -0.63580644  0.31671059  0.83651656 -0.85935009  0.15473612\n",
      " -0.62863618  0.08247093 -0.47696397  0.13628498  0.95557594 -0.95485455\n",
      " -0.68352073  0.0123837  -0.01202986 -0.67577863  0.29987732  0.10498992\n",
      " -1.09432471 -0.31625351  0.00596754 -0.11741146  0.00311201 -0.34178552\n",
      "  0.03537211  0.4885374  -0.35203901 -0.14286503  0.27971876 -0.25467572\n",
      " -0.4048546   0.97396725 -0.14256807  0.61280137  0.64895821 -0.09192723\n",
      "  0.81583905 -0.03471047  0.10663845 -0.30056006 -0.17990796 -1.25427389\n",
      "  1.37819123  0.41824433 -0.37162197  0.35406351]\n"
     ]
    }
   ],
   "source": [
    "#import cupy as cp\n",
    "from easyesn.optimizers import GradientOptimizer\n",
    "from easyesn import PredictionESN\n",
    "from easyesn.optimizers import GridSearchOptimizer\n",
    "from easyesn import helper as hlp\n",
    "import numpy as np\n",
    "from wikipedia2vec import Wikipedia2Vec\n",
    "\n",
    "np.random.seed(1)\n",
    "vectorDim = 100\n",
    "\n",
    "numNode = 100\n",
    "\n",
    "inputDataTraining = np.load('./trainingData_averaging/inputDataTraining_4k_average.npy')\n",
    "outputDataTraining = np.load('./trainingData_averaging/outputDataTraining_4k_average.npy')\n",
    "\n",
    "'''\n",
    "print(inputDataTraining.shape)\n",
    "print(outputDataTraining.shape)\n",
    "\n",
    "print(inputDataTraining[0])\n",
    "print(outputDataTraining[0])\n",
    "''''''"
   ]
  },
  {
   "cell_type": "code",
   "execution_count": 7,
   "metadata": {},
   "outputs": [],
   "source": [
    "esn = PredictionESN(n_input=vectorDim, n_output=vectorDim, n_reservoir=numNode, leakingRate=0.2, regressionParameters=[1e-2], solver=\"lsqr\", feedback=False)\n",
    "#esn = PredictionESN(n_input=vectorDim, n_output=vectorDim, n_reservoir=numNode, leakingRate=0.05, regressionParameters=[1e-2], solver=\"lsqr\", feedback=False)"
   ]
  },
  {
   "cell_type": "code",
   "execution_count": 8,
   "metadata": {
    "scrolled": true
   },
   "outputs": [
    {
     "name": "stderr",
     "output_type": "stream",
     "text": [
      "100% (1526210 of 1526210) |##############| Elapsed Time: 0:00:54 Time:  0:00:54\n"
     ]
    },
    {
     "data": {
      "text/plain": [
       "0.06841102701840343"
      ]
     },
     "execution_count": 8,
     "metadata": {},
     "output_type": "execute_result"
    }
   ],
   "source": [
    "esn.fit(inputDataTraining, outputDataTraining, transientTime=\"Auto\", verbose=1)"
   ]
  },
  {
   "cell_type": "code",
   "execution_count": 9,
   "metadata": {},
   "outputs": [
    {
     "name": "stdout",
     "output_type": "stream",
     "text": [
      "['peanuts', 'snacks', 'bowl', 'bar', 'people', 'eating', 'chips', 'drinking', 'beer', 'watching', 'football', 'game', 'woman', 'saw', 'dancing', 'peanut', 'big', 'smile', 'his', 'face', 'peanut', 'singing', 'girl', 'just', 'met', 'judging', 'song', 'peanut', 'totally', 'crazy', 'her', 'woman', 'thought', 'really', 'cute', 'see', 'peanut', 'singing', 'dancing', 'peanut']\n"
     ]
    }
   ],
   "source": [
    "wiki2vec = Wikipedia2Vec.load('enwiki_20180420_100d.pkl')\n",
    "\n",
    "#discourse_words = ['peanut', 'woman', 'saw', 'dancing', 'peanut', 'big', 'smile', 'his', 'face', 'peanut', 'singing', 'girl', 'just', 'met', 'judging', 'song', 'peanut', 'totally', 'crazy', 'her', 'woman', 'thought', 'really', 'cute', 'see', 'peanut', 'singing', 'dancing', 'peanut']\n",
    "discourse_words = ['peanuts', 'snacks', 'bowl', 'bar', 'people', 'eating', 'chips', 'drinking', 'beer', 'watching', 'football', 'game', 'woman', 'saw', 'dancing', 'peanut', 'big', 'smile', 'his', 'face', 'peanut', 'singing', 'girl', 'just', 'met', 'judging', 'song', 'peanut', 'totally', 'crazy', 'her', 'woman', 'thought', 'really', 'cute', 'see', 'peanut', 'singing', 'dancing', 'peanut']\n",
    "print(discourse_words)"
   ]
  },
  {
   "cell_type": "code",
   "execution_count": 10,
   "metadata": {},
   "outputs": [
    {
     "name": "stdout",
     "output_type": "stream",
     "text": [
      "(0, 100)\n",
      "(40, 100)\n"
     ]
    }
   ],
   "source": [
    "inputDataTesting = np.empty((0,vectorDim))\n",
    "print(inputDataTesting.shape)\n",
    "\n",
    "for num in range(len(discourse_words)):\n",
    "    inputDataTesting = np.append(inputDataTesting, np.array([wiki2vec.get_word_vector(discourse_words[num])]), axis=0)\n",
    "print(inputDataTesting.shape)"
   ]
  },
  {
   "cell_type": "code",
   "execution_count": 11,
   "metadata": {},
   "outputs": [
    {
     "name": "stdout",
     "output_type": "stream",
     "text": [
      "(40, 100)\n"
     ]
    }
   ],
   "source": [
    "prediction = esn.predict(inputDataTesting)\n",
    "#print(prediction)\n",
    "print(prediction.shape)"
   ]
  },
  {
   "cell_type": "code",
   "execution_count": 12,
   "metadata": {},
   "outputs": [
    {
     "name": "stdout",
     "output_type": "stream",
     "text": [
      "[0.57851908 0.66425371 0.72951539 0.76468353 0.79772415 0.84062296\n",
      " 0.85539531 0.86801684 0.88030313 0.88047699 0.87954655 0.89149036\n",
      " 0.89954159 0.89976375 0.90571927 0.91770126 0.9174908  0.91113495\n",
      " 0.90213749 0.90415279 0.92365104 0.91640751 0.91241582 0.90644827\n",
      " 0.90358012 0.90317002 0.90290133 0.92376863 0.90945512 0.91698872\n",
      " 0.90751064 0.90720859 0.90047998 0.90559771 0.90928692 0.90079037\n",
      " 0.92990363 0.9290571  0.92978741 0.94388407]\n"
     ]
    }
   ],
   "source": [
    "def cos_sim(v1, v2):\n",
    "    return np.dot(v1, v2) / (np.linalg.norm(v1) * np.linalg.norm(v2))\n",
    "\n",
    "\n",
    "accuracy_trajectory = np.array([])\n",
    "\n",
    "for num in range(len(discourse_words)):\n",
    "    #print(discourse_words[num])\n",
    "    if num == 0:\n",
    "        discourse_vector4trajectory = wiki2vec.get_word_vector(discourse_words[num])\n",
    "    else:\n",
    "        discourse_vector4trajectory = (num * discourse_vector4trajectory + wiki2vec.get_word_vector(discourse_words[num])) / (num + 1)\n",
    "    accuracy_trajectory = np.append(accuracy_trajectory, cos_sim(discourse_vector4trajectory, prediction[num]))\n",
    "print(accuracy_trajectory)"
   ]
  },
  {
   "cell_type": "code",
   "execution_count": 13,
   "metadata": {},
   "outputs": [
    {
     "data": {
      "image/png": "[encoded data removed]",
      "text/plain": [
       "<Figure size 432x288 with 1 Axes>"
      ]
     },
     "metadata": {
      "needs_background": "light"
     },
     "output_type": "display_data"
    }
   ],
   "source": [
    "import matplotlib.pyplot as plt\n",
    "\n",
    "fig, ax = plt.subplots()\n",
    "t = np.linspace(1, len(discourse_words), len(discourse_words))\n",
    "\n",
    "ax.set_xlabel('number of word')\n",
    "ax.set_ylabel('cosine similarity')\n",
    "ax.set_title(r'accuracy')\n",
    "ax.set_xlim([1,len(discourse_words)])\n",
    "ax.set_ylim([0, 1])\n",
    "\n",
    "ax.plot(t, accuracy_trajectory, color=\"red\")\n",
    "\n",
    "#ax.legend(loc=0)\n",
    "fig.tight_layout()\n",
    "plt.savefig('accuracy_trajectory.png')\n",
    "plt.show()"
   ]
  },
  {
   "cell_type": "code",
   "execution_count": null,
   "metadata": {},
   "outputs": [],
   "source": []
  },
  {
   "cell_type": "code",
   "execution_count": null,
   "metadata": {},
   "outputs": [],
   "source": []
  },
  {
   "cell_type": "code",
   "execution_count": null,
   "metadata": {},
   "outputs": [],
   "source": []
  }
 ],
 "metadata": {
  "kernelspec": {
   "display_name": "Python 3",
   "language": "python",
   "name": "python3"
  },
  "language_info": {
   "codemirror_mode": {
    "name": "ipython",
    "version": 3
   },
   "file_extension": ".py",
   "mimetype": "text/x-python",
   "name": "python",
   "nbconvert_exporter": "python",
   "pygments_lexer": "ipython3",
   "version": "3.7.6"
  }
 },
 "nbformat": 4,
 "nbformat_minor": 1
}
