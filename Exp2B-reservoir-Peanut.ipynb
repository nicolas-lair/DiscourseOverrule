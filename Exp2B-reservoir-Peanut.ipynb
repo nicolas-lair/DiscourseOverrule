{
 "cells": [
  {
   "cell_type": "code",
   "execution_count": 17,
   "metadata": {
    "scrolled": true
   },
   "outputs": [],
   "source": [
    "#import cupy as cp\n",
    "from easyesn.optimizers import GradientOptimizer\n",
    "from easyesn import PredictionESN\n",
    "from easyesn.optimizers import GridSearchOptimizer\n",
    "from easyesn import helper as hlp\n",
    "import numpy as np\n",
    "from wikipedia2vec import Wikipedia2Vec\n",
    "\n",
    "np.random.seed(4)\n",
    "vectorDim = 100\n",
    "\n",
    "numNode = 100\n",
    "\n",
    "inputDataTraining = np.load('./trainingData_averaging/inputDataTraining_4k_average.npy')\n",
    "outputDataTraining = np.load('./trainingData_averaging/outputDataTraining_4k_average.npy')"
   ]
  },
  {
   "cell_type": "code",
   "execution_count": 18,
   "metadata": {},
   "outputs": [],
   "source": [
    "esn = PredictionESN(n_input=vectorDim, n_output=vectorDim, n_reservoir=numNode, leakingRate=0.2, regressionParameters=[1e-2], solver=\"lsqr\", feedback=False)"
   ]
  },
  {
   "cell_type": "code",
   "execution_count": 19,
   "metadata": {},
   "outputs": [
    {
     "name": "stderr",
     "output_type": "stream",
     "text": [
      "100% (1526209 of 1526209) |##############| Elapsed Time: 0:01:15 Time:  0:01:15\n"
     ]
    },
    {
     "data": {
      "text/plain": [
       "0.06865680262922515"
      ]
     },
     "execution_count": 19,
     "metadata": {},
     "output_type": "execute_result"
    }
   ],
   "source": [
    "esn.fit(inputDataTraining, outputDataTraining, transientTime=\"Auto\", verbose=1)"
   ]
  },
  {
   "cell_type": "code",
   "execution_count": 20,
   "metadata": {},
   "outputs": [
    {
     "name": "stdout",
     "output_type": "stream",
     "text": [
      "['peanut', 'neutral', 'woman', 'saw', 'dancing', 'peanut', 'big', 'smile', 'his', 'face', 'peanut', 'singing', 'girl', 'just', 'met', 'judging', 'song', 'peanut', 'totally', 'crazy', 'her', 'woman', 'thought', 'really', 'cute', 'see', 'peanut', 'singing', 'dancing', 'peanut']\n"
     ]
    }
   ],
   "source": [
    "wiki2vec = Wikipedia2Vec.load('enwiki_20180420_100d.pkl')\n",
    "\n",
    "discourse_words = ['peanut', 'neutral','woman', 'saw', 'dancing', 'peanut', 'big', 'smile', 'his', 'face', 'peanut', 'singing', 'girl', 'just', 'met', 'judging', 'song', 'peanut', 'totally', 'crazy', 'her', 'woman', 'thought', 'really', 'cute', 'see', 'peanut', 'singing', 'dancing', 'peanut']\n",
    "#discourse_words = ['peanuts', 'snacks', 'bowl', 'bar', 'people', 'eating', 'chips', 'drinking', 'beer', 'watching', 'football', 'game', 'woman', 'saw', 'dancing', 'peanut', 'big', 'smile', 'his', 'face', 'peanut', 'singing', 'girl', 'just', 'met', 'judging', 'song', 'peanut', 'totally', 'crazy', 'her', 'woman', 'thought', 'really', 'cute', 'see', 'peanut', 'singing', 'dancing', 'peanut']\n",
    "print(discourse_words)"
   ]
  },
  {
   "cell_type": "code",
   "execution_count": 21,
   "metadata": {},
   "outputs": [
    {
     "name": "stdout",
     "output_type": "stream",
     "text": [
      "(0, 100)\n",
      "(30, 100)\n"
     ]
    }
   ],
   "source": [
    "inputDataTesting = np.empty((0,vectorDim))\n",
    "print(inputDataTesting.shape)\n",
    "\n",
    "for num in range(len(discourse_words)):\n",
    "    inputDataTesting = np.append(inputDataTesting, np.array([wiki2vec.get_word_vector(discourse_words[num])]), axis=0)\n",
    "print(inputDataTesting.shape)"
   ]
  },
  {
   "cell_type": "code",
   "execution_count": 22,
   "metadata": {},
   "outputs": [
    {
     "name": "stdout",
     "output_type": "stream",
     "text": [
      "(30, 100)\n"
     ]
    }
   ],
   "source": [
    "prediction = esn.predict(inputDataTesting)\n",
    "#print(prediction)\n",
    "print(prediction.shape)"
   ]
  },
  {
   "cell_type": "code",
   "execution_count": 23,
   "metadata": {
    "scrolled": true
   },
   "outputs": [
    {
     "name": "stdout",
     "output_type": "stream",
     "text": [
      "(0, 100)\n",
      "(0, 100)\n",
      "(30, 100)\n",
      "(30, 100)\n",
      "[0.50764559 0.49805657 0.46688856 0.45513047 0.45953579 0.54624346\n",
      " 0.51972204 0.51168439 0.47383422 0.43565708 0.52540994 0.49133634\n",
      " 0.47221193 0.4619047  0.43214198 0.41356638 0.41704579 0.52590735\n",
      " 0.49159811 0.49520981 0.4717821  0.43190426 0.43963971 0.43082551\n",
      " 0.42308611 0.39825064 0.49557229 0.45840402 0.45291994 0.53932471]\n",
      "[0.43281191 0.42415153 0.47626039 0.46506755 0.51652924 0.50110126\n",
      " 0.52118615 0.57801792 0.57605373 0.57894685 0.56105673 0.60623785\n",
      " 0.64274238 0.63930112 0.64077067 0.61586287 0.65240632 0.62522813\n",
      " 0.64121494 0.66539354 0.67428144 0.67723843 0.6669224  0.6821902\n",
      " 0.68902372 0.67417474 0.65286543 0.67789942 0.6862575  0.64956823]\n"
     ]
    }
   ],
   "source": [
    "def cos_sim(v1, v2):\n",
    "    return np.dot(v1, v2) / (np.linalg.norm(v1) * np.linalg.norm(v2))\n",
    "\n",
    "consistentOutputDataTesting = np.empty((0,vectorDim))\n",
    "inconsistentOutputDataTesting = np.empty((0,vectorDim))\n",
    "print(consistentOutputDataTesting.shape)\n",
    "print(inconsistentOutputDataTesting.shape)\n",
    "\n",
    "for num in range(len(discourse_words) - 1):\n",
    "    consistentOutputDataTesting = np.append(consistentOutputDataTesting, np.array([wiki2vec.get_word_vector(discourse_words[num + 1])]), axis=0)\n",
    "    inconsistentOutputDataTesting = np.append(inconsistentOutputDataTesting, np.array([wiki2vec.get_word_vector(discourse_words[num + 1])]), axis=0)\n",
    "consistentOutputDataTesting = np.append(consistentOutputDataTesting, np.array([wiki2vec.get_word_vector('love')]), axis=0)\n",
    "inconsistentOutputDataTesting = np.append(inconsistentOutputDataTesting, np.array([wiki2vec.get_word_vector('salted')]), axis=0)\n",
    "print(consistentOutputDataTesting.shape)\n",
    "print(inconsistentOutputDataTesting.shape)\n",
    "\n",
    "\n",
    "consistent_trajectory = np.array([])\n",
    "inconsistent_trajectory = np.array([])\n",
    "\n",
    "consistent_vector = wiki2vec.get_word_vector('love')\n",
    "inconsistent_vector = wiki2vec.get_word_vector('salted')\n",
    "\n",
    "for num in range(len(prediction)):\n",
    "    consistent_trajectory = np.append(consistent_trajectory, cos_sim(consistent_vector, prediction[num]))\n",
    "    inconsistent_trajectory = np.append(inconsistent_trajectory, cos_sim(inconsistent_vector, prediction[num]))\n",
    "    #consistent_trajectory = np.append(consistent_trajectory, cos_sim(consistentOutputDataTesting[num], prediction[num]))\n",
    "    #inconsistent_trajectory = np.append(inconsistent_trajectory, cos_sim(inconsistentOutputDataTesting[num], prediction[num]))\n",
    "print(inconsistent_trajectory)\n",
    "print(consistent_trajectory)"
   ]
  },
  {
   "cell_type": "code",
   "execution_count": 24,
   "metadata": {},
   "outputs": [
    {
     "data": {
      "image/png": "[encoded data removed]",
      "text/plain": [
       "<Figure size 432x288 with 1 Axes>"
      ]
     },
     "metadata": {
      "needs_background": "light"
     },
     "output_type": "display_data"
    }
   ],
   "source": [
    "import matplotlib.pyplot as plt\n",
    "\n",
    "fig, ax = plt.subplots()\n",
    "t = np.linspace(1, len(discourse_words), len(discourse_words))\n",
    "\n",
    "ax.set_xlabel('number of word')\n",
    "ax.set_ylabel('cosine similarity')\n",
    "ax.set_title(r'cosine similarity trajectory')\n",
    "ax.set_xlim([1,len(discourse_words)])\n",
    "ax.set_ylim([0.3, 0.8])\n",
    "\n",
    "ax.plot(t, inconsistent_trajectory, color=\"blue\", label=\"Salted\")\n",
    "ax.plot(t, consistent_trajectory, color=\"red\", label=\"Love\")\n",
    "\n",
    "ax.legend(loc=0)\n",
    "fig.tight_layout()\n",
    "plt.savefig('test_averaging_reservoir.png')\n",
    "plt.show()"
   ]
  },
  {
   "cell_type": "code",
   "execution_count": 22,
   "metadata": {},
   "outputs": [
    {
     "data": {
      "image/png": "[encoded data removed]",
      "text/plain": [
       "<Figure size 432x288 with 1 Axes>"
      ]
     },
     "metadata": {
      "needs_background": "light"
     },
     "output_type": "display_data"
    }
   ],
   "source": [
    "from sklearn.decomposition import PCA\n",
    "from pylab import *\n",
    "\n",
    "# Number of dimensions\n",
    "n_dim = 2\n",
    "\n",
    "# Project the data onto \"n_dim\" dimensions using the SciKit learn toolbox\n",
    "pca = PCA(n_components=3)\n",
    "# Note that dimensions are automatically sorted, so if you set 2 dimensions\n",
    "# it will return the 2 dimensions with the most variance in the data\n",
    "projected_data = pca.fit_transform(prediction)\n",
    "\n",
    "if n_dim == 2:\n",
    "    # Here is a one line plotting command for the 2 dimension projections\n",
    "    plot(*projected_data.T)\n",
    "    show()\n",
    "\n",
    "if n_dim == 3:\n",
    "    # A 3 dimensional plot requires a bit more code:\n",
    "    # loading the 3d library\n",
    "    from mpl_toolkits.mplot3d import Axes3D\n",
    "    # creating a 3d figure\n",
    "    fig = plt.figure()\n",
    "    ax = fig.add_subplot(111, projection='3d')\n",
    "    # plotting the data\n",
    "    ax.plot(*projected_data.T)\n",
    "    show()"
   ]
  },
  {
   "cell_type": "code",
   "execution_count": null,
   "metadata": {},
   "outputs": [],
   "source": []
  },
  {
   "cell_type": "code",
   "execution_count": null,
   "metadata": {},
   "outputs": [],
   "source": []
  },
  {
   "cell_type": "code",
   "execution_count": null,
   "metadata": {},
   "outputs": [],
   "source": []
  }
 ],
 "metadata": {
  "kernelspec": {
   "display_name": "Python 3",
   "language": "python",
   "name": "python3"
  },
  "language_info": {
   "codemirror_mode": {
    "name": "ipython",
    "version": 3
   },
   "file_extension": ".py",
   "mimetype": "text/x-python",
   "name": "python",
   "nbconvert_exporter": "python",
   "pygments_lexer": "ipython3",
   "version": "3.7.6"
  }
 },
 "nbformat": 4,
 "nbformat_minor": 1
}
